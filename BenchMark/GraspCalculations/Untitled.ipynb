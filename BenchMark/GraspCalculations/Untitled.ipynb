{
 "cells": [
  {
   "cell_type": "code",
   "execution_count": 29,
   "metadata": {},
   "outputs": [],
   "source": [
    "import pandas as pd\n",
    "import sys\n",
    "import os"
   ]
  },
  {
   "cell_type": "code",
   "execution_count": 30,
   "metadata": {},
   "outputs": [],
   "source": [
    "df = pd.read_csv('graspCalculations_bcspwr01.csv')"
   ]
  },
  {
   "cell_type": "code",
   "execution_count": 31,
   "metadata": {},
   "outputs": [
    {
     "data": {
      "text/plain": [
       "array(['[ 29 11 4 35 26 13 9 1 25 3 32 33 31 22 20 2 12 16 5 38 24 19 28 21 39 23 37 17 30 8 14 27 10 6 18 34 15 36 7 ]'],\n",
       "      dtype=object)"
      ]
     },
     "execution_count": 31,
     "metadata": {},
     "output_type": "execute_result"
    }
   ],
   "source": [
    "df.loc[(df['value'] == df['value'].max())]['labeling'].unique()"
   ]
  },
  {
   "cell_type": "code",
   "execution_count": 65,
   "metadata": {},
   "outputs": [
    {
     "data": {
      "text/plain": [
       "array(['[ 29 11 4 35 26 13 9 1 25 3 32 33 31 22 20 2 12 16 5 38 24 19 28 21 39 23 37 17 30 8 14 27 10 6 18 34 15 36 7 ]'],\n",
       "      dtype=object)"
      ]
     },
     "execution_count": 65,
     "metadata": {},
     "output_type": "execute_result"
    }
   ],
   "source": [
    "max_label = df.loc[(df['value'] == df['value'].max())]['labeling'].unique()\n",
    "max_label"
   ]
  },
  {
   "cell_type": "code",
   "execution_count": 66,
   "metadata": {},
   "outputs": [
    {
     "data": {
      "text/plain": [
       "41"
      ]
     },
     "execution_count": 66,
     "metadata": {},
     "output_type": "execute_result"
    }
   ],
   "source": [
    "max_label = max_label[0].split(\" \")\n",
    "len(max_label)"
   ]
  },
  {
   "cell_type": "code",
   "execution_count": 64,
   "metadata": {},
   "outputs": [
    {
     "name": "stdout",
     "output_type": "stream",
     "text": [
      "Element: 29\n",
      "Element: 11\n",
      "Element: 4\n",
      "Element: 35\n",
      "Element: 26\n",
      "Element: 13\n",
      "Element: 9\n",
      "Element: 1\n",
      "Element: 25\n",
      "Element: 3\n",
      "Element: 32\n",
      "Element: 33\n",
      "Element: 31\n",
      "Element: 22\n",
      "Element: 20\n",
      "Element: 2\n",
      "Element: 12\n",
      "Element: 16\n",
      "Element: 5\n",
      "Element: 38\n",
      "Element: 24\n",
      "Element: 19\n",
      "Element: 28\n",
      "Element: 21\n",
      "Element: 39\n",
      "Element: 23\n",
      "Element: 37\n",
      "Element: 17\n",
      "Element: 30\n",
      "Element: 8\n",
      "Element: 14\n",
      "Element: 27\n",
      "Element: 10\n",
      "Element: 6\n",
      "Element: 18\n",
      "Element: 34\n",
      "Element: 15\n",
      "Element: 36\n",
      "Element: 7\n"
     ]
    }
   ],
   "source": [
    "file = open(\"temp_label.txt\",\"w+\")\n",
    "for i in range(len(max_label ) - 2):\n",
    "    print(\"Element: \" + max_label[i + 1])\n",
    "    file.write(max_label[i + 1] + \"\\n\")\n",
    "file.close()"
   ]
  },
  {
   "cell_type": "code",
   "execution_count": 23,
   "metadata": {},
   "outputs": [],
   "source": [
    "#os.remove(\"temp_label.txt\")"
   ]
  },
  {
   "cell_type": "code",
   "execution_count": null,
   "metadata": {},
   "outputs": [],
   "source": []
  }
 ],
 "metadata": {
  "kernelspec": {
   "display_name": "Python 3",
   "language": "python",
   "name": "python3"
  },
  "language_info": {
   "codemirror_mode": {
    "name": "ipython",
    "version": 3
   },
   "file_extension": ".py",
   "mimetype": "text/x-python",
   "name": "python",
   "nbconvert_exporter": "python",
   "pygments_lexer": "ipython3",
   "version": "3.6.6"
  }
 },
 "nbformat": 4,
 "nbformat_minor": 2
}
